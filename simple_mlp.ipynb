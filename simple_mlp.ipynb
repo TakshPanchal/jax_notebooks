{
  "nbformat": 4,
  "nbformat_minor": 0,
  "metadata": {
    "colab": {
      "name": "simple_mlp.ipynb",
      "provenance": [],
      "authorship_tag": "ABX9TyNPhk0n5epdkpMvFXVNqdlR",
      "include_colab_link": true
    },
    "kernelspec": {
      "name": "python3",
      "display_name": "Python 3"
    },
    "language_info": {
      "name": "python"
    },
    "accelerator": "GPU"
  },
  "cells": [
    {
      "cell_type": "markdown",
      "metadata": {
        "id": "view-in-github",
        "colab_type": "text"
      },
      "source": [
        "<a href=\"https://colab.research.google.com/github/TakshPanchal/jax_notebooks/blob/main/simple_mlp.ipynb\" target=\"_parent\"><img src=\"https://colab.research.google.com/assets/colab-badge.svg\" alt=\"Open In Colab\"/></a>"
      ]
    },
    {
      "cell_type": "markdown",
      "source": [
        "# Implement two hidden layers neural network classifier from scratch in JAX [20 Marks]\n",
        "\n",
        "- [X] Two hidden layers here means (input - hidden1 - hidden2 - output).\n",
        "- [X]  You must not use flax, optax, or any other library for this task.\n",
        "- [X]  Use MNIST dataset with 80:20 train:test split.\n",
        "- [X]  Manually optimize the number of neurons in hidden layers.\n",
        "- [X]  Use gradient descent from scratch to optimize your network. You should use the Pytree concept of JAX to do this elegantly.\n",
        "- [X]  Plot loss v/s iterations curve with matplotlib.\n",
        "- [ ]  Evaluate the model on test data with various classification metrics and briefly discuss their implications.\n"
      ],
      "metadata": {
        "id": "0wp4EsyoYG5L"
      }
    },
    {
      "cell_type": "markdown",
      "source": [
        "# Two hidden layered neural network or Multi Layered Percepron"
      ],
      "metadata": {
        "id": "xBdWnf42VE-L"
      }
    },
    {
      "cell_type": "markdown",
      "source": [
        "This notebook will cover implementation of simple neural network with hidden layers or multilayer perceptron(MLP). MNIST dataset will be used to train the network. These are the topics which will be covered\n",
        "- Loading of MNIST dataset\n",
        "- Implementation of MLP in JAX library\n",
        "- Implementation Gradient Decend algorithm\n",
        "- Analysis of loss v/s epochs curve\n",
        "- Evaluvate model will various classification metrics"
      ],
      "metadata": {
        "id": "JiF_Ru9OVotU"
      }
    },
    {
      "cell_type": "markdown",
      "source": [
        "## Packages\n",
        "\n",
        "Let's first import all the packages which will be needed.\n",
        "\n",
        "- `jax` is Autograd and XLA, brought together for high-performance machine learning research.\n",
        "- We will use `jax.numpy` api for calculations. \n",
        "- `matplotlib` is a library to plot graphs in Python.\n",
        "- `tqdm` tqdm is a library which is used for creating Progress Bars\n",
        "- we will use `sklearn` for train-test split and data loading\n",
        "- `seed` is used to keep all the random function calls consistent.\n"
      ],
      "metadata": {
        "id": "JaXodz4Dl6tn"
      }
    },
    {
      "cell_type": "code",
      "execution_count": 115,
      "metadata": {
        "id": "KfPyDss_YB3p"
      },
      "outputs": [],
      "source": [
        "import jax\n",
        "import jax.numpy as np\n",
        "import matplotlib.pyplot as plt\n",
        "from jax import grad, jit, vmap, random\n",
        "from tqdm import trange\n",
        "from sklearn.datasets import load_digits # for loading MNIST dataset\n",
        "from sklearn.model_selection import train_test_split\n",
        "\n",
        "seed = 82"
      ]
    },
    {
      "cell_type": "markdown",
      "source": [
        "## Loading MNIST dataset\n",
        "\n",
        "The MNIST dataset contains images of labeled handwritten digits.It is an extremely good dataset for people who want to try machine learning techniques on real-world data while spending minimal time and effort on data preprocessing and formatting. `sklearn` library's `load_digits` function helps load the images and labels directly as `numpy` array.\n",
        "\n",
        "`load_digits` function returns a `dict` which contains metadata and data of datasets. Use `'images'` and `'target'` keys to get images and labels "
      ],
      "metadata": {
        "id": "AHksiez4awXG"
      }
    },
    {
      "cell_type": "code",
      "source": [
        "mnist = load_digits() # returns dictionary\n",
        "print(mnist.keys())\n",
        "\n",
        "# Description of mnist dataset\n",
        "# print(mnist['DESCR']) "
      ],
      "metadata": {
        "id": "PVY0YjSzNlOl",
        "colab": {
          "base_uri": "https://localhost:8080/"
        },
        "outputId": "e0a43bed-cd37-47aa-d42b-c28c9834f6d9"
      },
      "execution_count": 116,
      "outputs": [
        {
          "output_type": "stream",
          "name": "stdout",
          "text": [
            "dict_keys(['data', 'target', 'frame', 'feature_names', 'target_names', 'images', 'DESCR'])\n"
          ]
        }
      ]
    },
    {
      "cell_type": "code",
      "source": [
        "images = mnist['images']\n",
        "labels = mnist['target']\n",
        "\n",
        "n_images = images.shape[0]\n",
        "im_shape = images[0].shape\n",
        "n_classes = len(mnist['target_names'])\n",
        "print(\"Total no. of images are \", n_images)\n",
        "print(\"Shape of a image is\",im_shape)"
      ],
      "metadata": {
        "colab": {
          "base_uri": "https://localhost:8080/"
        },
        "id": "xVn3917acOR8",
        "outputId": "899d9d37-697a-4aff-ad70-2349f6621a3c"
      },
      "execution_count": 117,
      "outputs": [
        {
          "output_type": "stream",
          "name": "stdout",
          "text": [
            "Total no. of images are  1797\n",
            "Shape of a image is (8, 8)\n"
          ]
        }
      ]
    },
    {
      "cell_type": "markdown",
      "source": [
        "We can see some images by running next cell. "
      ],
      "metadata": {
        "id": "J14SSG0CeImO"
      }
    },
    {
      "cell_type": "code",
      "source": [
        "fig, axes = plt.subplots(2, 10, figsize=(10, 6))\n",
        "for i in range(20):\n",
        "    axes[i//10, i %10].imshow(mnist.images[i], cmap='gray');\n",
        "    axes[i//10, i %10].axis('off')\n",
        "    axes[i//10, i %10].set_title(f\"target: {mnist.target[i]}\")\n",
        "    \n",
        "plt.tight_layout()"
      ],
      "metadata": {
        "colab": {
          "base_uri": "https://localhost:8080/",
          "height": 270
        },
        "id": "QZ43UUuMwZy_",
        "outputId": "e3ccc3f4-7f45-499c-c312-1929448969fb"
      },
      "execution_count": 118,
      "outputs": [
        {
          "output_type": "display_data",
          "data": {
            "text/plain": [
              "<Figure size 720x432 with 20 Axes>"
            ],
            "image/png": "[encoded data removed]"
          },
          "metadata": {
            "needs_background": "light"
          }
        }
      ]
    },
    {
      "cell_type": "markdown",
      "source": [
        "We know that each image is made of pixels and a image can be represeted as a matrix. Bellow image is a close look of a grayscale image. Each pixel is has a value which represents it's brightness. This image can be represented as a 2-d matrix.\n",
        "\n",
        "<p align=\"center\">\n",
        "  <img src=\"https://www.saraai.com/images/blog/mnist1.png\" />\n",
        "</p>\n",
        "In our dataset, we have grayscale images of 8X8 pixels."
      ],
      "metadata": {
        "id": "_NQ25U6kfdj7"
      }
    },
    {
      "cell_type": "markdown",
      "source": [
        "### Split data in train and test\n",
        "\n",
        "The train-test split technique is used to evaluate model performance after training. \n",
        "\n",
        "The procedure involves taking a dataset and dividing it into two subsets. The first subset is used to fit the model and is referred to as the training dataset. The second subset is not used to train the model; instead, the input element of the dataset is provided to the model, then predictions are made and compared to the expected values. This second dataset is referred to as the test dataset.\n",
        "\n",
        "- **Train Dataset**: Used to fit the machine learning model.\n",
        "\n",
        "- **Test Dataset**: Used to evaluate the fit machine learning model.\n",
        "The objective is to estimate the performance of the machine learning model on \n",
        "- **unseen data**: data not used to train the model.\n",
        "\n",
        "In practice, model is expected for prediction on new unseen data. That is why we make a subset of unseen data for evaluation of model.\n",
        "\n",
        "Here we are doing 80:20 split for train and test data\n",
        "\n"
      ],
      "metadata": {
        "id": "VEcJxUTZhxMa"
      }
    },
    {
      "cell_type": "code",
      "source": [
        "X_train, X_test, y_train, y_test = train_test_split(images, labels, test_size=0.2, random_state=seed)\n",
        "# images = images.reshape(n_images,-1)\n",
        "# images = (images - images.min()) / (images.max() - images.min())\n",
        "print(\"Train size : \",X_train.shape[0])\n",
        "print(\"Test size  : \",X_test.shape[0])"
      ],
      "metadata": {
        "id": "kWWvM68Hvxqw",
        "colab": {
          "base_uri": "https://localhost:8080/"
        },
        "outputId": "2cd96198-4945-4a63-f8a0-97f2eed88ca7"
      },
      "execution_count": 119,
      "outputs": [
        {
          "output_type": "stream",
          "name": "stdout",
          "text": [
            "Train size :  1437\n",
            "Test size  :  360\n"
          ]
        }
      ]
    },
    {
      "cell_type": "markdown",
      "source": [
        "## Multi Layer Perceptron"
      ],
      "metadata": {
        "id": "ycoX18q_9iKK"
      }
    },
    {
      "cell_type": "markdown",
      "source": [
        "Before moving to implementation let us remember some concepts of Multilayer perceptron(MLP). \n",
        "\n",
        "MLP is feedforward neural network which has structure like this. It contains input,output and some hidden layers which may have different dimensions. It can be used for classfication as well as regression problem\n",
        "\n",
        "<p align=\"center\">\n",
        "  <img src=\"https://nasirml.files.wordpress.com/2017/12/mlp2_model.png?w=585&h=272\" />\n",
        "</p>\n",
        "\n",
        "<p>\n",
        "This is image of neural network of two hidden layers. The first layer is called **Input layer** which consists data from the sample. Also, input layer does not contain any paramers. The last layer is **Output layer** which is prediction of the network.\n",
        "Different arrow represents linear tranformation followed by non-linear activation. </p>\n",
        "<p> \n",
        "Input layer dimensions are decided from the shape of input data and Output layer dimensions are decided based on the number of labels or classes. Hidden layer dimensions are hyperparameters and can be changed on base of model performance.\n",
        "</p>\n",
        "\n",
        "\n",
        "---\n",
        "\n",
        "\n",
        "Linear Transformation can be defined by following equation.\n",
        "\n",
        "\n",
        "$$Z^{[l]} = W^{[l]} \\cdot A^{[l-1]} +b^{[l]}\\tag{1}$$\n",
        "\n",
        "where \n",
        "$A^{[0]} = X$ and Superscript $[l]$ denotes a quantity associated with the $l^{th}$ layer \n",
        "\n",
        "In this equation $W$ is known as weight and $b$ is bias."
      ],
      "metadata": {
        "id": "TJ2HCGvB9m23"
      }
    },
    {
      "cell_type": "markdown",
      "source": [
        "For one dimention Eq. $(1)$ can be simplify as equation of line which we have already studied. \n",
        "\n",
        "$$y=w ⋅ x + b\\tag{2}$$\n",
        "\n",
        "So, now you understand that you recall linear transformation, let's understand about non-linear activation"
      ],
      "metadata": {
        "id": "azYM0Ut6DryM"
      }
    },
    {
      "cell_type": "markdown",
      "source": [
        "**Activation Function**\n",
        "As I mentioned before, activation functions are basically non-linear transformation applied after linear tranformation. After applying activation output will be send to next layer of neurons or it may be the final prediction.\n",
        "\n",
        "There are different type of activation functions but most common activation functions used in Deep Learning are mentioned bellow:\n",
        "- [ReLU](https://en.wikipedia.org/wiki/Rectifier_(neural_networks))\n",
        "- [sigmoid](https://en.wikipedia.org/wiki/Sigmoid_function)\n",
        "- [softmax](https://en.wikipedia.org/wiki/Softmax_function)\n",
        "- tanh\n",
        "\n",
        "Activation functions adds non-linearity which helps to learn more complex patterns in the data. Each activation function mentioned here has certain use cases. We will use ReLU and softmax for our MLP model. You will learn more about those later. \n"
      ],
      "metadata": {
        "id": "ZXxbwvJIEsvo"
      }
    },
    {
      "cell_type": "markdown",
      "source": [
        "**Type of problem**\n",
        "We also have to identify that which type of problem is this. Is it a classfication problem or regression? if it is classfication then, Is it a binary or multi-class or multi-label?\n",
        "\n",
        "we know that we have to predict a discreate number from a image which means we have to classify the images. So that this is a classfication problem\n",
        "\n",
        "**binary classification** - no. of classes will be only two\n",
        "\n",
        "**multi-class classfication** - no. of classes are more than two and each sample maps to only one class\n",
        "\n",
        "**multi-lable classification** - no. of classes are more than two and each sample may maps to more than one classes\n",
        "\n",
        "\n",
        "In our dataset, each image correspondence to a number so we are dealing with **multi-class classification problem**."
      ],
      "metadata": {
        "id": "kTBDOs8QISh6"
      }
    },
    {
      "cell_type": "markdown",
      "source": [
        "## Implementation of Model"
      ],
      "metadata": {
        "id": "okRrNeXgk5Gy"
      }
    },
    {
      "cell_type": "markdown",
      "source": [
        "At first, we have to define parameters of the model i.e. weights and biases for each layer. Remember input layer does not have any parameters."
      ],
      "metadata": {
        "id": "WLh6Jz_vl0mf"
      }
    },
    {
      "cell_type": "code",
      "source": [
        "def init_params(layer_sizes,seed=42):\n",
        "    \"\"\"\n",
        "    Initiate parameters of MLP model.\n",
        "\n",
        "    Arguments:\n",
        "    layer_sizes -- list of sizes of layers starting from input layer to output layer\n",
        "    seed -- interger, seed for random number generation\n",
        "    \n",
        "    Returns:\n",
        "    params -- pytree of weights and biases of the layers\n",
        "    \"\"\"\n",
        "    n_layers = len(layer_sizes)\n",
        "    parent_key = random.PRNGKey(seed)\n",
        "    params = []\n",
        "    keys = random.split(parent_key,num = n_layers - 1)  \n",
        "\n",
        "    for i in range(n_layers-1):\n",
        "        w_key,b_key = random.split(keys[i])\n",
        "        in_size = layer_sizes[i]\n",
        "        out_size = layer_sizes[i+1]\n",
        "\n",
        "        weights = random.normal(w_key,shape=(in_size, out_size))\n",
        "        biases = random.normal(b_key,shape=(out_size,))\n",
        "        params.append(dict(weights=weights,biases=biases))\n",
        "    return params\n"
      ],
      "metadata": {
        "id": "YBkR6gpGCT1W"
      },
      "execution_count": 120,
      "outputs": []
    },
    {
      "cell_type": "code",
      "source": [
        "def forward(params, x):\n",
        "    \"\"\"\n",
        "        forward propagation for a single sample\n",
        "\n",
        "        Arguments:\n",
        "        params -- parameters pytree of the model\n",
        "        x -- numpy feature vector of a sample\n",
        "\n",
        "        Returns:\n",
        "        output -- post activation value of last layer\n",
        "    \"\"\"\n",
        "    activation = x  # x will be input for next hidden layer\n",
        "\n",
        "    hidden_layers = params[:-1] \n",
        "\n",
        "    # Loop over the hidden layers with ReLU activation\n",
        "    for layer in hidden_layers:\n",
        "        z = np.dot(activation, layer['weights']) + layer['biases']\n",
        "        activation = jax.nn.relu(z)\n",
        "\n",
        "    # Perform final transformation with softmax activation\n",
        "    last_layer = params[-1]\n",
        "    logits = np.dot(activation, last_layer['weights']) + last_layer['biases']\n",
        "    output = jax.nn.log_softmax(logits)\n",
        "\n",
        "    return output\n",
        "\n",
        "batch_forward = jit(vmap(forward, in_axes=(None, 0))) # forward propagation for a batch\n"
      ],
      "metadata": {
        "id": "dC_96qWyCk_O"
      },
      "execution_count": 121,
      "outputs": []
    },
    {
      "cell_type": "code",
      "source": [
        "@jit\n",
        "def loss_fn(params, X, Y):\n",
        "    \"\"\" Compute the multi-class cross-entropy loss \"\"\"\n",
        "    prediction = batch_forward(params, X)\n",
        "    return -np.sum(Y * prediction)\n"
      ],
      "metadata": {
        "id": "vIUPwpyDCxVU"
      },
      "execution_count": 122,
      "outputs": []
    },
    {
      "cell_type": "code",
      "source": [
        "@jit\n",
        "def grad_calculation(params, X, Y):\n",
        "    \"\"\"calculate gradients of parameters\n",
        "\n",
        "    Args:\n",
        "        params (list): parameters of the model\n",
        "        X (array type): input matrix of batch which has shape (n_samples, n_features)\n",
        "        Y (array type): one hot encoded true matrix of shape (n_samples, n_)\n",
        "\n",
        "    Returns:\n",
        "        list: gradients of parameters\n",
        "    \"\"\"\n",
        "    gradients = jax.grad(loss_fn)(params, X, Y)\n",
        "    return gradients\n",
        "\n",
        "def update_param(p,g,lr = 1e-5):\n",
        "    \"\"\"update parameters of the model\n",
        "\n",
        "    Args:\n",
        "        p (array like): matrix of a parameter\n",
        "        g (array like): gradient of the same parameter\n",
        "        lr (float, optional): learning rate. Defaults to 1e-5.\n",
        "\n",
        "    Returns:\n",
        "        array like: updated parameter matrix\n",
        "    \"\"\"\n",
        "    return p - lr * g\n",
        "\n",
        "@jit\n",
        "def gradient_decend(params,gradients):\n",
        "    \"\"\"Gradient decend algorithm which minimizes loss by updating parameters.\n",
        "\n",
        "    Args:\n",
        "        params (list): parameters of the model\n",
        "        gradients (list): gradients of parameters\n",
        "\n",
        "    Returns:\n",
        "        array like: updated parameters\n",
        "    \"\"\"\n",
        "    return jax.tree_map(\n",
        "        update_param,\n",
        "        params, gradients\n",
        "    )\n"
      ],
      "metadata": {
        "id": "qtQnKT1hR5iV"
      },
      "execution_count": 123,
      "outputs": []
    },
    {
      "cell_type": "code",
      "source": [
        "def predict(params, X):\n",
        "    \"\"\"predicts class from the sample.\n",
        "\n",
        "    Args:\n",
        "        params (list): parameters of the model\n",
        "        X (array like): Input feaure matrix of a sample or a batch having shape (n_samples, n_features)\n",
        "\n",
        "    Returns:\n",
        "        array like: predicted class matrix having shape of (n_samples, n_classes)\n",
        "    \"\"\"\n",
        "    predictions = batch_forward(params,X)\n",
        "    labels = np.argmax(predictions, axis=-1)\n",
        "    return labels\n",
        "\n",
        "def accuracy(params, X, Y):\n",
        "    \"\"\"accuracy metric for classfication model\n",
        "\n",
        "    Args:\n",
        "        params (list): parameters of the model\n",
        "        X (array like): Input feaure matrix of a sample or a batch having shape (n_samples, n_features)\n",
        "        Y (array like): True class labels matrix having shape of (n_samples, n_classes)\n",
        "\n",
        "    Returns:\n",
        "        float: accuracy of the model on given data\n",
        "    \"\"\"\n",
        "    Y_hat = predict(params, X)\n",
        "    return np.mean(Y == Y_hat)\n"
      ],
      "metadata": {
        "id": "DshSdJNLi0MB"
      },
      "execution_count": 124,
      "outputs": []
    },
    {
      "cell_type": "markdown",
      "source": [
        "### Training loop"
      ],
      "metadata": {
        "id": "Yizb8-q7P2tA"
      }
    },
    {
      "cell_type": "code",
      "source": [
        "def train(train_images, train_labels, params, epochs = 10, batch_size = 256):\n",
        "    \"\"\"traing loop for MLP model\n",
        "\n",
        "    Args:\n",
        "        train_images (array like): numpy array of train data images\n",
        "        train_labels (numpy array): array of train labels\n",
        "        params (_type_): _description_\n",
        "        epochs (int, optional): number of epochs for the training. Defaults to 10.\n",
        "        batch_size (int, optional): batch size for training. Defaults to 256.\n",
        "    Returns:\n",
        "        list: trained parameters of the model\n",
        "    \"\"\"\n",
        "    # print(params)\n",
        "    n_samples = train_images.shape[0]\n",
        "    train_losses = []\n",
        "    \n",
        "    # loop over epochs\n",
        "    for _ in trange(epochs):\n",
        "        total_loss = 0  # total loss per epoch\n",
        "        # loop over batches\n",
        "        for batch_i in range(0, n_samples, batch_size):\n",
        "            # slice batch data\n",
        "            batch_end_idx = batch_i + batch_size if not batch_i + batch_size > n_samples + 1 else -1\n",
        "            batch_images = train_images[batch_i: batch_end_idx]\n",
        "            batch_labels = train_labels[batch_i: batch_end_idx]            \n",
        "\n",
        "            # push NumPy explicitly to GPU\n",
        "            batch_images = jax.device_put(batch_images) \n",
        "            batch_labels = jax.device_put(batch_labels)\n",
        "\n",
        "            loss = loss_fn(params, batch_images, batch_labels) \n",
        "            grads = grad_calculation(params, batch_images, batch_labels)\n",
        "            params = gradient_decend(params,grads)\n",
        "            \n",
        "            total_loss += loss\n",
        "\n",
        "        train_losses.append(total_loss)\n",
        "\n",
        "    return params, train_losses\n"
      ],
      "metadata": {
        "id": "QbXq8v7TViPj"
      },
      "execution_count": 137,
      "outputs": []
    },
    {
      "cell_type": "code",
      "source": [
        "def evaluate(eval_images,true_labels, params):\n",
        "    \"\"\"evaluate model on a give data\n",
        "\n",
        "    Args:\n",
        "        eval_images (array like): array of evaluation data images of shape (n_samples, n_features)\n",
        "        true_labels (_type_): True class labels matrix having shape of (n_samples, 1)\n",
        "        params (list): parameters of the model\n",
        "    Returns:\n",
        "        loss (float) : Loss for the given data\n",
        "        accuracy (float): Accuracy for the given data\n",
        "    \"\"\"\n",
        "    y_train_encoded = jax.nn.one_hot(y_train, n_classes)\n",
        "    eval_loss = loss_fn(params, eval_images, y_train_encoded)\n",
        "    \n",
        "    eval_accuracy = accuracy(params, eval_images, true_labels)\n",
        "    \n",
        "    print(\"Accuracy of the model is \", eval_accuracy)\n",
        "    print(\"Loss of the model is \", eval_loss)\n",
        "    return eval_loss, eval_accuracy \n"
      ],
      "metadata": {
        "id": "9WMDl13ObGMC"
      },
      "execution_count": 145,
      "outputs": []
    },
    {
      "cell_type": "code",
      "source": [
        "epochs = 1000\n",
        "batch_size = 256\n",
        "n_features = im_shape[0] * im_shape[1]\n",
        "layers = [n_features, 32, 32, n_classes]\n",
        "\n",
        "params = init_params(layers,42)  \n",
        "print(\"Layers shapes are - \", jax.tree_map(lambda p: p.shape,params))\n",
        "\n",
        "X_train_flattern = X_train.reshape(-1, n_features) # one hot encode labels encode labels \n",
        "y_train_encoded = jax.nn.one_hot(y_train, n_classes) # flattern inputs \n",
        "\n",
        "params, loss_train = train(X_train_flattern, y_train_encoded, params, epochs = epochs)"
      ],
      "metadata": {
        "colab": {
          "base_uri": "https://localhost:8080/"
        },
        "id": "vmnCojJVOOvK",
        "outputId": "9f4b9dee-f5c5-4de8-e416-5573d45ce3c8"
      },
      "execution_count": 160,
      "outputs": [
        {
          "output_type": "stream",
          "name": "stdout",
          "text": [
            "Layers shapes are -  [{'biases': (32,), 'weights': (64, 32)}, {'biases': (32,), 'weights': (32, 32)}, {'biases': (10,), 'weights': (32, 10)}]\n"
          ]
        },
        {
          "output_type": "stream",
          "name": "stderr",
          "text": [
            "100%|██████████| 1000/1000 [00:18<00:00, 53.84it/s]\n"
          ]
        }
      ]
    },
    {
      "cell_type": "code",
      "source": [
        "eval_loss, eval_acc = evaluate(X_train_flattern, y_train, params)"
      ],
      "metadata": {
        "colab": {
          "base_uri": "https://localhost:8080/"
        },
        "id": "_9_0NWLIh2c2",
        "outputId": "16313aef-0c66-4a3c-9ceb-2b25b40c8119"
      },
      "execution_count": 161,
      "outputs": [
        {
          "output_type": "stream",
          "name": "stdout",
          "text": [
            "Accuracy of the model is  1.0\n",
            "Loss of the model is  0.11724136\n"
          ]
        }
      ]
    },
    {
      "cell_type": "code",
      "source": [
        "epochs_range = range(1, epochs + 1)\n",
        "plt.plot(epochs_range, loss_train, 'g', label='Training loss')\n",
        "# plt.plot(epochs, loss_val, 'b', label='validation loss')\n",
        "plt.title('Training Loss')\n",
        "plt.xlabel('Epochs')\n",
        "plt.ylabel('Loss')\n",
        "plt.legend()\n",
        "plt.show()"
      ],
      "metadata": {
        "id": "fVoGbFmPbGF0",
        "colab": {
          "base_uri": "https://localhost:8080/",
          "height": 295
        },
        "outputId": "b3b713f5-187d-4191-f937-78ecd411c140"
      },
      "execution_count": 163,
      "outputs": [
        {
          "output_type": "display_data",
          "data": {
            "text/plain": [
              "<Figure size 432x288 with 1 Axes>"
            ],
            "image/png": "[encoded data removed]"
          },
          "metadata": {
            "needs_background": "light"
          }
        }
      ]
    },
    {
      "cell_type": "code",
      "source": [
        ""
      ],
      "metadata": {
        "id": "QX-8UXtsbGC4",
        "colab": {
          "base_uri": "https://localhost:8080/"
        },
        "outputId": "f4ac249f-71e3-4558-a0b4-7e0dc5c315f1"
      },
      "execution_count": 152,
      "outputs": [
        {
          "output_type": "execute_result",
          "data": {
            "text/plain": [
              "250"
            ]
          },
          "metadata": {},
          "execution_count": 152
        }
      ]
    },
    {
      "cell_type": "code",
      "source": [
        "len(epochs_range)"
      ],
      "metadata": {
        "id": "g89G1CgubFyt",
        "colab": {
          "base_uri": "https://localhost:8080/"
        },
        "outputId": "eb31bd1b-f17c-444d-82fa-1caef4e9e6bf"
      },
      "execution_count": 97,
      "outputs": [
        {
          "output_type": "execute_result",
          "data": {
            "text/plain": [
              "100"
            ]
          },
          "metadata": {},
          "execution_count": 97
        }
      ]
    },
    {
      "cell_type": "code",
      "source": [
        "# def MLPClassfier():\n",
        "#     def __init__(self,layer_sizes,seed):\n",
        "#         self.parent_key = random.PRNGKey(seed)\n",
        "#         self.params = []\n",
        "#         self.layer_sizes = layer_sizes\n",
        "#         self.n_layers = len(self.layer_sizes)\n",
        "#         self._init_params()\n",
        "#         self.caches = []\n",
        "\n",
        "#     def _init_params(self,scale = 0.01):\n",
        "#         keys = random.split(self.parent_key,num = self.n_layers - 1)\n",
        "\n",
        "#         for i in range(self.n_layers-1):\n",
        "#             w_key,b_key = random.split(keys[i])\n",
        "#             in_size = self.layer_sizes[i]\n",
        "#             out_size = self.layer_sizes[i+1]\n",
        "\n",
        "#             w = random.normal(w_key,shape=(in_size,out_size))\n",
        "#             b = random.normal(b_key,shape=(out_size,))\n",
        "#             self.params.append([w,b])\n",
        "\n",
        "#     def _linear_forward(self,activation,w,b):\n",
        "#         \"\"\"\n",
        "#             for a single sample\n",
        "#         \"\"\"\n",
        "#         z = np.dot(w,activation) + b \n",
        "#         cache = (activation,w,b)\n",
        "#         return z, cache\n",
        "    \n",
        "#     def _linear_activation_forward(self,activation, w, b, activation_fn):\n",
        "#         z, linear_cache = self._linear_forward(activation, w, b)\n",
        "#         activation = activation_fn(z)\n",
        "#         cache = (linear_cache, z)\n",
        "\n",
        "#         return activation, cache\n",
        "\n",
        "#     @jit\n",
        "#     def _forward(self,x):\n",
        "#         \"\"\"\n",
        "#         forward propagation for the [LINEAR->RELU]*(L-1)->LINEAR->SIGMOID computation\n",
        "        \n",
        "#         Arguments:\n",
        "#         X -- data, numpy array of shape (input size, number of examples)\n",
        "#         parameters -- output of initialize_parameters_deep()\n",
        "        \n",
        "#         Returns:\n",
        "#         AL -- last post-activation value\n",
        "#         caches -- list of caches containing:\n",
        "#                     every cache of linear_relu_forward() (there are L-1 of them, indexed from 0 to L-2)\n",
        "#                     the cache of linear_sigmoid_forward() (there is one, indexed L-1)\n",
        "#         \"\"\"\n",
        "\n",
        "       \n",
        "#         activation = x\n",
        "#         # self.\n",
        "#         L = self.n_layers                # number of layers in the neural network\n",
        "    \n",
        "\n",
        "#         hidden_layers = params[:-1]\n",
        "\n",
        "#         # Loop over the ReLU hidden layers\n",
        "#         for w, b in hidden_layers:\n",
        "#             activation, cache = self._linear_activation_forward(activation, w, b, activation_fn = jax.nn.relu)\n",
        "#             self.caches.append(cache)\n",
        "\n",
        "#         # Perform final trafo to logits\n",
        "#         final_w, final_b = params[-1]\n",
        "#         logits = np.dot(final_w, activation) + final_b\n",
        "#         output, cache = self._linear_activation_forward(activation, final_w, final_b, activation_fn = jax.nn.softmax)\n",
        "#         output = jax.nn.softmax(logits)\n",
        "#         self.caches.append(cache)\n",
        "\n",
        "#         return output\n",
        "\n",
        "#     def forward(self,X):\n",
        "#         batch_forward = jit(vmap(self._forward, in_axes=(None, 0), out_axes=0))\n",
        "#         return batch_forward(X)\n",
        "\n",
        "#     def linear_backward(self, dZ, cache):\n",
        "#         \"\"\"\n",
        "#         Implement the linear portion of backward propagation for a single layer (layer l)\n",
        "\n",
        "#         Arguments:\n",
        "#         dZ -- Gradient of the cost with respect to the linear output (of current layer l)\n",
        "#         cache -- tuple of values (A_prev, W, b) coming from the forward propagation in the current layer\n",
        "\n",
        "#         Returns:\n",
        "#         dA_prev -- Gradient of the cost with respect to the activation (of the previous layer l-1), same shape as A_prev\n",
        "#         dW -- Gradient of the cost with respect to W (current layer l), same shape as W\n",
        "#         db -- Gradient of the cost with respect to b (current layer l), same shape as b\n",
        "#         \"\"\"\n",
        "#         A_prev, W, b = cache\n",
        "#         m = A_prev.shape[1]\n",
        "\n",
        "#         ### START CODE HERE ### (≈ 3 lines of code)\n",
        "#         dW = np.dot(dZ, cache[0].T) / m\n",
        "#         db = np.squeeze(np.sum(dZ, axis=1, keepdims=True)) / m\n",
        "#         dA_prev = np.dot(cache[1].T, dZ)\n",
        "#         ### END CODE HERE ###\n",
        "        \n",
        "#         assert (dA_prev.shape == A_prev.shape)\n",
        "#         assert (dW.shape == W.shape)\n",
        "#         assert (isinstance(db, float))\n",
        "        \n",
        "#         return dA_prev, dW, db"
      ],
      "metadata": {
        "id": "-fj3-RY18knO",
        "cellView": "form"
      },
      "execution_count": null,
      "outputs": []
    },
    {
      "cell_type": "code",
      "source": [
        "# forward pass\n",
        "@jit\n",
        "def forward(params,in_array):\n",
        "    \"\"\"\n",
        "        Compute the forward pass for each example individually\n",
        "        params: list of weights and biases of MLP \n",
        "        x: single flat image\n",
        "    \"\"\"\n",
        "    hidden_layers = params[:-1]\n",
        "\n",
        "    activations = in_array\n",
        "\n",
        "    # Loop over the ReLU hidden layers\n",
        "    for w, b in hidden_layers:\n",
        "        a = np.dot(w,activations) + b \n",
        "        activation = jax.nn.relu(a)\n",
        "    \n",
        "    # Perform final trafo to logits\n",
        "    final_w, final_b = params[-1]\n",
        "    logits = np.dot(final_w, activations) + final_b\n",
        "    output = jax.nn.softmax(logits)\n",
        "    return output\n"
      ],
      "metadata": {
        "id": "oilnpAgI5Bya"
      },
      "execution_count": null,
      "outputs": []
    },
    {
      "cell_type": "code",
      "source": [
        "def update(params,imgs,labels):\n",
        "    \"\"\" Compute the gradient for a batch and update the parameters \"\"\"\n",
        "    value, grads = value_and_grad(loss)(params, x, y)\n"
      ],
      "metadata": {
        "id": "uzSY59J_P8th"
      },
      "execution_count": null,
      "outputs": []
    },
    {
      "cell_type": "code",
      "source": [
        "def init_MLPClassfier(layer_sizes,parent_key,scale = 0.01):\n",
        "    params = []\n",
        "    keys = random.split(parent_key,num= len(layer_sizes) - 1)\n",
        "\n",
        "    for i in range(len(layer_sizes)-1):\n",
        "        w_key,b_key = random.split(keys[i])\n",
        "        in_size = layer_sizes[i]\n",
        "        out_size = layer_sizes[i+1]\n",
        "        w = random.normal(w_key,shape=(in_size,out_size))\n",
        "        b = random.normal(b_key,shape=(out_size,))\n",
        "        params.append([w,b])\n",
        "\n",
        "    return params"
      ],
      "metadata": {
        "id": "2mBJQ5mR4jWp"
      },
      "execution_count": null,
      "outputs": []
    },
    {
      "cell_type": "code",
      "source": [
        "# test\n",
        "input,h1,h2,output = (784,512,256,10)\n",
        "layers = [input,h1,h2,output]\n",
        "seed = 42 \n",
        "\n",
        "parent_key = random.PRNGKey(seed)\n",
        "MLP_params = init_MLPClassfier(layers,parent_key)\n",
        "\n",
        "print(jax.tree_map(lambda x: x.shape,MLP_params))"
      ],
      "metadata": {
        "id": "Xw5CXGtK41Zk"
      },
      "execution_count": null,
      "outputs": []
    }
  ]
}