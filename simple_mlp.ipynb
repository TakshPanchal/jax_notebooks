{
  "nbformat": 4,
  "nbformat_minor": 0,
  "metadata": {
    "colab": {
      "name": "simple_mlp.ipynb",
      "provenance": [],
      "authorship_tag": "ABX9TyMrQ7MiP7BaiWVKwvQFVrAn",
      "include_colab_link": true
    },
    "kernelspec": {
      "name": "python3",
      "display_name": "Python 3"
    },
    "language_info": {
      "name": "python"
    }
  },
  "cells": [
    {
      "cell_type": "markdown",
      "metadata": {
        "id": "view-in-github",
        "colab_type": "text"
      },
      "source": [
        "<a href=\"https://colab.research.google.com/github/TakshPanchal/jax_notebooks/blob/main/simple_mlp.ipynb\" target=\"_parent\"><img src=\"https://colab.research.google.com/assets/colab-badge.svg\" alt=\"Open In Colab\"/></a>"
      ]
    },
    {
      "cell_type": "markdown",
      "source": [
        "# Implement two hidden layers neural network classifier from scratch in JAX [20 Marks]\n",
        "\n",
        "- [ ] Two hidden layers here means (input - hidden1 - hidden2 - output).\n",
        "- [X]  You must not use flax, optax, or any other library for this task.\n",
        "- [X]  Use MNIST dataset with 80:20 train:test split.\n",
        "- [ ]  Manually optimize the number of neurons in hidden layers.\n",
        "- [ ]  Use gradient descent from scratch to optimize your network. You should use the Pytree concept of JAX to do this elegantly.\n",
        "- [ ]  Plot loss v/s iterations curve with matplotlib.\n",
        "- [ ]  Evaluate the model on test data with various classification metrics and briefly discuss their implications.\n"
      ],
      "metadata": {
        "id": "0wp4EsyoYG5L"
      }
    },
    {
      "cell_type": "code",
      "source": [
        "# TODO: implement NN\n",
        "# TODO: implement GD\n",
        "# TODO: add dataloading\n",
        "# TODO: add training loop, loss fn"
      ],
      "metadata": {
        "id": "S9TkugY2r_we"
      },
      "execution_count": 1,
      "outputs": []
    },
    {
      "cell_type": "code",
      "execution_count": 2,
      "metadata": {
        "id": "KfPyDss_YB3p"
      },
      "outputs": [],
      "source": [
        "import jax.numpy as np\n",
        "from jax import random\n",
        "import jax\n",
        "from jax import grad, jit, vmap\n",
        "from sklearn.datasets import load_digits\n",
        "import matplotlib.pyplot as plt\n",
        "from sklearn.model_selection import train_test_split"
      ]
    },
    {
      "cell_type": "code",
      "source": [
        "def init_params(layer_sizes,seed):\n",
        "    n_layers = len(layer_sizes)\n",
        "    parent_key = random.PRNGKey(seed)\n",
        "    params = []\n",
        "    keys = random.split(parent_key,num = n_layers - 1)\n",
        "\n",
        "    for i in range(n_layers-1):\n",
        "        w_key,b_key = random.split(keys[i])\n",
        "        in_size = layer_sizes[i]\n",
        "        out_size = layer_sizes[i+1]\n",
        "\n",
        "        W = random.normal(w_key,shape=(in_size,out_size))\n",
        "        b = random.normal(b_key,shape=(out_size,))\n",
        "        params.append([W,b])\n",
        "    return params"
      ],
      "metadata": {
        "id": "YBkR6gpGCT1W"
      },
      "execution_count": 3,
      "outputs": []
    },
    {
      "cell_type": "code",
      "source": [
        "def linear_forward(activation,W,b):\n",
        "    z = np.dot(activation,W) + b \n",
        "    cache = (activation,W,b)\n",
        "    return z, cache"
      ],
      "metadata": {
        "id": "PJRVZiPNCZE5"
      },
      "execution_count": 4,
      "outputs": []
    },
    {
      "cell_type": "code",
      "source": [
        "def linear_activation_forward(activation, W, b, activation_fn):\n",
        "    z, linear_cache = linear_forward(activation, W, b)\n",
        "    activation = activation_fn(z)\n",
        "\n",
        "    return activation, linear_cache"
      ],
      "metadata": {
        "id": "Qs979hrKChll"
      },
      "execution_count": 5,
      "outputs": []
    },
    {
      "cell_type": "code",
      "source": [
        "@jit\n",
        "def forward(params,x):\n",
        "    \"\"\"\n",
        "        forward propagation for the [LINEAR->RELU]*(L-1)->LINEAR->SIGMOID computation\n",
        "\n",
        "        Arguments:\n",
        "        X -- data, numpy array of shape (input size, number of examples)\n",
        "        parameters -- output of initialize_parameters_deep()\n",
        "\n",
        "        Returns:\n",
        "        AL -- last post-activation value\n",
        "        caches -- list of caches containing:\n",
        "        every cache of linear_relu_forward() (there are L-1 of them, indexed from 0 to L-2)\n",
        "        the cache of linear_sigmoid_forward() (there is one, indexed L-1)\n",
        "    \"\"\"\n",
        "    activation = x\n",
        "    caches = []\n",
        "\n",
        "    hidden_layers = params[:-1]\n",
        "\n",
        "    # Loop over the ReLU hidden layers\n",
        "    for W, b in hidden_layers:\n",
        "        activation, cache = linear_activation_forward(activation, W, b, activation_fn = jax.nn.relu)\n",
        "        caches.append(cache)\n",
        "\n",
        "    # Perform final trafo to logits\n",
        "    final_W, final_b = params[-1]\n",
        "    logits, cache = linear_activation_forward(activation, final_W, final_b, activation_fn = jax.nn.softmax)\n",
        "    output = jax.nn.softmax(logits)\n",
        "    caches.append(cache)\n",
        "\n",
        "    return output,caches"
      ],
      "metadata": {
        "id": "dC_96qWyCk_O"
      },
      "execution_count": 6,
      "outputs": []
    },
    {
      "cell_type": "code",
      "source": [
        "batch_forward = jit(vmap(forward, in_axes=(None, 0)))"
      ],
      "metadata": {
        "id": "YSV6jwkHCrp_"
      },
      "execution_count": 7,
      "outputs": []
    },
    {
      "cell_type": "code",
      "source": [
        "@jit\n",
        "def loss(prediction, targets):\n",
        "    \"\"\" Compute the multi-class cross-entropy loss \"\"\"\n",
        "    # # preds = batch_forward(params, in_arrays)\n",
        "    # -np.mean(np.sum(np.sum(, axis=1), axis=1))\n",
        "\n",
        "    # return -np.sum(prediction * targets)\n",
        "    return -np.sum(targets * np.log(prediction))"
      ],
      "metadata": {
        "id": "vIUPwpyDCxVU"
      },
      "execution_count": 8,
      "outputs": []
    },
    {
      "cell_type": "code",
      "source": [
        "def layer_backward(activation, w, b):\n",
        "    # activation, w, b = cache\n",
        "    (d_activation, dw, db),_ = grad(linear_forward, argnums = (0,1,2),has_aux=True)(activation, w, b)\n",
        "    \n",
        "    return (d_activation, dw, db)\n",
        "\n",
        "batched_layer_backward = vmap(linear_forward,in_axes=(0,None,None),out_axes=)"
      ],
      "metadata": {
        "id": "_HYbw3rDC4fN",
        "colab": {
          "base_uri": "https://localhost:8080/",
          "height": 135
        },
        "outputId": "03719048-9c88-4d7e-cc83-ae18ccdff940"
      },
      "execution_count": 9,
      "outputs": [
        {
          "output_type": "error",
          "ename": "SyntaxError",
          "evalue": "ignored",
          "traceback": [
            "\u001b[0;36m  File \u001b[0;32m\"<ipython-input-9-80828cea9375>\"\u001b[0;36m, line \u001b[0;32m7\u001b[0m\n\u001b[0;31m    batched_layer_backward = vmap(linear_forward,in_axes=(0,None,None),out_axes=)\u001b[0m\n\u001b[0m                                                                                ^\u001b[0m\n\u001b[0;31mSyntaxError\u001b[0m\u001b[0;31m:\u001b[0m invalid syntax\n"
          ]
        }
      ]
    },
    {
      "cell_type": "code",
      "source": [
        "# def linear_activation_backward(cache, activation_fn):\n",
        "#     \"\"\"\n",
        "#     Implement the backward propagation for the LINEAR->ACTIVATION layer.\n",
        "    \n",
        "#     Arguments:\n",
        "#     dA -- post-activation gradient for current layer l \n",
        "#     cache -- tuple of values (linear_cache, activation_cache) we store for computing backward propagation efficiently\n",
        "#     activation -- the activation to be used in this layer, stored as a text string: \"sigmoid\" or \"relu\"\n",
        "    \n",
        "#     Returns:\n",
        "#     dA_prev -- Gradient of the cost with respect to the activation (of the previous layer l-1), same shape as A_prev\n",
        "#     dW -- Gradient of the cost with respect to W (current layer l), same shape as W\n",
        "#     db -- Gradient of the cost with respect to b (current layer l), same shape as b\n",
        "#     \"\"\"\n",
        "    \n",
        "#     # I dont need it - skip dz part\n",
        "#     dz = grad(activation_fn)(z)    \n",
        "    \n",
        "#     d_activation, dw, db = linear_backward(linear_cache)\n",
        "    \n",
        "#     return d_activation, dw, db"
      ],
      "metadata": {
        "id": "Zj28-lYaH5RB"
      },
      "execution_count": null,
      "outputs": []
    },
    {
      "cell_type": "code",
      "source": [
        "def backward(caches):\n",
        "    \"\"\"\n",
        "    Implement the backward propagation for the [LINEAR->RELU] * (L-1) -> LINEAR -> SIGMOID group\n",
        "    \n",
        "    Arguments:\n",
        "    AL -- probability vector, output of the forward propagation (L_model_forward())\n",
        "    Y -- true \"label\" vector (containing 0 if non-cat, 1 if cat)\n",
        "    caches -- list of caches containing:\n",
        "                every cache of linear_activation_forward() with \"relu\" (it's caches[l], for l in range(L-1) i.e l = 0...L-2)\n",
        "                the cache of linear_activation_forward() with \"sigmoid\" (it's caches[L-1])\n",
        "    \n",
        "    Returns:\n",
        "    grads -- A dictionary with the gradients\n",
        "             grads[\"dA\" + str(l)] = ... \n",
        "             grads[\"dW\" + str(l)] = ...\n",
        "             grads[\"db\" + str(l)] = ... \n",
        "    \"\"\"\n",
        "    grads = []\n",
        "    n_layers = len(caches) # the number of layers\n",
        "\n",
        "    for i in range(n_layers):\n",
        "        activation, w, b = caches[i]\n",
        "        d_activation, d_params  = batched_layer_backward(activation, w, b)\n",
        "        # dW, db = d_params\n",
        "        print(len(d_params))\n",
        "        grads.append((d_activation, dW, db))\n",
        "\n",
        "    return grads"
      ],
      "metadata": {
        "id": "7k5bcj78KxkF"
      },
      "execution_count": null,
      "outputs": []
    },
    {
      "cell_type": "code",
      "source": [
        "mnist = load_digits()\n",
        "images = mnist['images']\n",
        "labels = mnist['target']"
      ],
      "metadata": {
        "id": "PVY0YjSzNlOl"
      },
      "execution_count": 10,
      "outputs": []
    },
    {
      "cell_type": "code",
      "source": [
        "fig, axes = plt.subplots(2, 10, figsize=(10, 6))\n",
        "for i in range(20):\n",
        "    axes[i//10, i %10].imshow(mnist.images[i], cmap='gray');\n",
        "    axes[i//10, i %10].axis('off')\n",
        "    axes[i//10, i %10].set_title(f\"target: {mnist.target[i]}\")\n",
        "    \n",
        "plt.tight_layout()"
      ],
      "metadata": {
        "colab": {
          "base_uri": "https://localhost:8080/",
          "height": 270
        },
        "id": "QZ43UUuMwZy_",
        "outputId": "eaba7a2a-7c63-4320-d63b-14dd5992d629"
      },
      "execution_count": 11,
      "outputs": [
        {
          "output_type": "display_data",
          "data": {
            "text/plain": [
              "<Figure size 720x432 with 20 Axes>"
            ],
            "image/png": "[encoded data removed]"
          },
          "metadata": {
            "needs_background": "light"
          }
        }
      ]
    },
    {
      "cell_type": "code",
      "source": [
        "total_images = images.shape[0]\n",
        "n = 10\n",
        "images = jax.device_put(images)  # push NumPy explicitly to GPU\n",
        "labels = jax.device_put(labels) \n",
        "images = images.reshape(total_images,-1)\n",
        "X_train, X_test, y_train, y_test = train_test_split(images, labels, test_size=0.2, random_state=42)"
      ],
      "metadata": {
        "id": "kWWvM68Hvxqw",
        "colab": {
          "base_uri": "https://localhost:8080/"
        },
        "outputId": "bd249d6d-780d-4b35-e1de-cbbf024e3904"
      },
      "execution_count": 12,
      "outputs": [
        {
          "output_type": "stream",
          "name": "stderr",
          "text": [
            "WARNING:absl:No GPU/TPU found, falling back to CPU. (Set TF_CPP_MIN_LOG_LEVEL=0 and rerun for more info.)\n"
          ]
        }
      ]
    },
    {
      "cell_type": "markdown",
      "source": [
        "### Training loop"
      ],
      "metadata": {
        "id": "Yizb8-q7P2tA"
      }
    },
    {
      "cell_type": "code",
      "source": [
        "# TODO: make model class\n",
        "epochs = 1\n",
        "layers = [X_train.shape[-1],512,256,n]\n",
        "\n",
        "params = init_params(layers,42)\n",
        "batch_size = 32\n",
        "no_of_samples = X_train.shape[0]\n",
        "no_of_batches = no_of_samples // batch_size\n",
        "\n",
        "for e in range(epochs):\n",
        "    total_loss = 0\n",
        "    for batch_i in range(0,no_of_samples,batch_size):\n",
        "        batch_end_idx = batch_i + 32 if batch_i + 32 < no_of_samples else -1\n",
        "        batch_images = images[batch_i: batch_end_idx]\n",
        "        batch_labels = labels[batch_i: batch_end_idx]\n",
        "        batch_labels_encoded = jax.nn.one_hot(batch_labels, len(mnist['target_names']))\n",
        "        # forward pass\n",
        "        batch_predictions,caches = batch_forward(params,batch_images)\n",
        "        # loss calculation\n",
        "        batch_loss = loss(batch_predictions,batch_labels_encoded)\n",
        "        total_loss += batch_loss\n",
        "        # back prop and gradient calculation\n",
        "        backward(caches)\n",
        "\n",
        "        # update()\n",
        "    print(total_loss)"
      ],
      "metadata": {
        "colab": {
          "base_uri": "https://localhost:8080/",
          "height": 245
        },
        "id": "vmnCojJVOOvK",
        "outputId": "de45ae07-0a50-4d94-c745-a31522a02bab"
      },
      "execution_count": 14,
      "outputs": [
        {
          "output_type": "error",
          "ename": "NameError",
          "evalue": "ignored",
          "traceback": [
            "\u001b[0;31m---------------------------------------------------------------------------\u001b[0m",
            "\u001b[0;31mNameError\u001b[0m                                 Traceback (most recent call last)",
            "\u001b[0;32m<ipython-input-14-a0dcb6f046e3>\u001b[0m in \u001b[0;36m<module>\u001b[0;34m()\u001b[0m\n\u001b[1;32m     21\u001b[0m         \u001b[0mtotal_loss\u001b[0m \u001b[0;34m+=\u001b[0m \u001b[0mbatch_loss\u001b[0m\u001b[0;34m\u001b[0m\u001b[0;34m\u001b[0m\u001b[0m\n\u001b[1;32m     22\u001b[0m         \u001b[0;31m# back prop and gradient calculation\u001b[0m\u001b[0;34m\u001b[0m\u001b[0;34m\u001b[0m\u001b[0;34m\u001b[0m\u001b[0m\n\u001b[0;32m---> 23\u001b[0;31m         \u001b[0mbackward\u001b[0m\u001b[0;34m(\u001b[0m\u001b[0mcaches\u001b[0m\u001b[0;34m)\u001b[0m\u001b[0;34m\u001b[0m\u001b[0;34m\u001b[0m\u001b[0m\n\u001b[0m\u001b[1;32m     24\u001b[0m \u001b[0;34m\u001b[0m\u001b[0m\n\u001b[1;32m     25\u001b[0m         \u001b[0;31m# update()\u001b[0m\u001b[0;34m\u001b[0m\u001b[0;34m\u001b[0m\u001b[0;34m\u001b[0m\u001b[0m\n",
            "\u001b[0;31mNameError\u001b[0m: name 'backward' is not defined"
          ]
        }
      ]
    },
    {
      "cell_type": "code",
      "source": [
        "caches"
      ],
      "metadata": {
        "colab": {
          "base_uri": "https://localhost:8080/",
          "height": 171
        },
        "id": "9WMDl13ObGMC",
        "outputId": "d9dd9e2d-06fe-477f-a07c-1b3c3287bb0d"
      },
      "execution_count": 266,
      "outputs": [
        {
          "output_type": "error",
          "ename": "NameError",
          "evalue": "ignored",
          "traceback": [
            "\u001b[0;31m---------------------------------------------------------------------------\u001b[0m",
            "\u001b[0;31mNameError\u001b[0m                                 Traceback (most recent call last)",
            "\u001b[0;32m<ipython-input-266-5d5aadd4c3e8>\u001b[0m in \u001b[0;36m<module>\u001b[0;34m()\u001b[0m\n\u001b[0;32m----> 1\u001b[0;31m \u001b[0mcaches\u001b[0m\u001b[0;34m\u001b[0m\u001b[0;34m\u001b[0m\u001b[0m\n\u001b[0m",
            "\u001b[0;31mNameError\u001b[0m: name 'caches' is not defined"
          ]
        }
      ]
    },
    {
      "cell_type": "code",
      "source": [
        ""
      ],
      "metadata": {
        "id": "fVoGbFmPbGF0"
      },
      "execution_count": null,
      "outputs": []
    },
    {
      "cell_type": "code",
      "source": [
        ""
      ],
      "metadata": {
        "id": "QX-8UXtsbGC4"
      },
      "execution_count": null,
      "outputs": []
    },
    {
      "cell_type": "code",
      "source": [
        ""
      ],
      "metadata": {
        "id": "g89G1CgubFyt"
      },
      "execution_count": null,
      "outputs": []
    },
    {
      "cell_type": "code",
      "source": [
        "# def MLPClassfier():\n",
        "#     def __init__(self,layer_sizes,seed):\n",
        "#         self.parent_key = random.PRNGKey(seed)\n",
        "#         self.params = []\n",
        "#         self.layer_sizes = layer_sizes\n",
        "#         self.n_layers = len(self.layer_sizes)\n",
        "#         self._init_params()\n",
        "#         self.caches = []\n",
        "\n",
        "#     def _init_params(self,scale = 0.01):\n",
        "#         keys = random.split(self.parent_key,num = self.n_layers - 1)\n",
        "\n",
        "#         for i in range(self.n_layers-1):\n",
        "#             w_key,b_key = random.split(keys[i])\n",
        "#             in_size = self.layer_sizes[i]\n",
        "#             out_size = self.layer_sizes[i+1]\n",
        "\n",
        "#             w = random.normal(w_key,shape=(in_size,out_size))\n",
        "#             b = random.normal(b_key,shape=(out_size,))\n",
        "#             self.params.append([w,b])\n",
        "\n",
        "#     def _linear_forward(self,activation,w,b):\n",
        "#         \"\"\"\n",
        "#             for a single sample\n",
        "#         \"\"\"\n",
        "#         z = np.dot(w,activation) + b \n",
        "#         cache = (activation,w,b)\n",
        "#         return z, cache\n",
        "    \n",
        "#     def _linear_activation_forward(self,activation, w, b, activation_fn):\n",
        "#         z, linear_cache = self._linear_forward(activation, w, b)\n",
        "#         activation = activation_fn(z)\n",
        "#         cache = (linear_cache, z)\n",
        "\n",
        "#         return activation, cache\n",
        "\n",
        "#     @jit\n",
        "#     def _forward(self,x):\n",
        "#         \"\"\"\n",
        "#         forward propagation for the [LINEAR->RELU]*(L-1)->LINEAR->SIGMOID computation\n",
        "        \n",
        "#         Arguments:\n",
        "#         X -- data, numpy array of shape (input size, number of examples)\n",
        "#         parameters -- output of initialize_parameters_deep()\n",
        "        \n",
        "#         Returns:\n",
        "#         AL -- last post-activation value\n",
        "#         caches -- list of caches containing:\n",
        "#                     every cache of linear_relu_forward() (there are L-1 of them, indexed from 0 to L-2)\n",
        "#                     the cache of linear_sigmoid_forward() (there is one, indexed L-1)\n",
        "#         \"\"\"\n",
        "\n",
        "       \n",
        "#         activation = x\n",
        "#         # self.\n",
        "#         L = self.n_layers                # number of layers in the neural network\n",
        "    \n",
        "\n",
        "#         hidden_layers = params[:-1]\n",
        "\n",
        "#         # Loop over the ReLU hidden layers\n",
        "#         for w, b in hidden_layers:\n",
        "#             activation, cache = self._linear_activation_forward(activation, w, b, activation_fn = jax.nn.relu)\n",
        "#             self.caches.append(cache)\n",
        "\n",
        "#         # Perform final trafo to logits\n",
        "#         final_w, final_b = params[-1]\n",
        "#         logits = np.dot(final_w, activation) + final_b\n",
        "#         output, cache = self._linear_activation_forward(activation, final_w, final_b, activation_fn = jax.nn.softmax)\n",
        "#         output = jax.nn.softmax(logits)\n",
        "#         self.caches.append(cache)\n",
        "\n",
        "#         return output\n",
        "\n",
        "#     def forward(self,X):\n",
        "#         batch_forward = jit(vmap(self._forward, in_axes=(None, 0), out_axes=0))\n",
        "#         return batch_forward(X)\n",
        "\n",
        "#     def linear_backward(self, dZ, cache):\n",
        "#         \"\"\"\n",
        "#         Implement the linear portion of backward propagation for a single layer (layer l)\n",
        "\n",
        "#         Arguments:\n",
        "#         dZ -- Gradient of the cost with respect to the linear output (of current layer l)\n",
        "#         cache -- tuple of values (A_prev, W, b) coming from the forward propagation in the current layer\n",
        "\n",
        "#         Returns:\n",
        "#         dA_prev -- Gradient of the cost with respect to the activation (of the previous layer l-1), same shape as A_prev\n",
        "#         dW -- Gradient of the cost with respect to W (current layer l), same shape as W\n",
        "#         db -- Gradient of the cost with respect to b (current layer l), same shape as b\n",
        "#         \"\"\"\n",
        "#         A_prev, W, b = cache\n",
        "#         m = A_prev.shape[1]\n",
        "\n",
        "#         ### START CODE HERE ### (≈ 3 lines of code)\n",
        "#         dW = np.dot(dZ, cache[0].T) / m\n",
        "#         db = np.squeeze(np.sum(dZ, axis=1, keepdims=True)) / m\n",
        "#         dA_prev = np.dot(cache[1].T, dZ)\n",
        "#         ### END CODE HERE ###\n",
        "        \n",
        "#         assert (dA_prev.shape == A_prev.shape)\n",
        "#         assert (dW.shape == W.shape)\n",
        "#         assert (isinstance(db, float))\n",
        "        \n",
        "#         return dA_prev, dW, db"
      ],
      "metadata": {
        "id": "-fj3-RY18knO",
        "cellView": "form"
      },
      "execution_count": 211,
      "outputs": []
    },
    {
      "cell_type": "code",
      "source": [
        "# forward pass\n",
        "@jit\n",
        "def forward(params,in_array):\n",
        "    \"\"\"\n",
        "        Compute the forward pass for each example individually\n",
        "        params: list of weights and biases of MLP \n",
        "        x: single flat image\n",
        "    \"\"\"\n",
        "    hidden_layers = params[:-1]\n",
        "\n",
        "    activations = in_array\n",
        "\n",
        "    # Loop over the ReLU hidden layers\n",
        "    for w, b in hidden_layers:\n",
        "        a = np.dot(w,activations) + b \n",
        "        activation = jax.nn.relu(a)\n",
        "    \n",
        "    # Perform final trafo to logits\n",
        "    final_w, final_b = params[-1]\n",
        "    logits = np.dot(final_w, activations) + final_b\n",
        "    output = jax.nn.softmax(logits)\n",
        "    return output\n"
      ],
      "metadata": {
        "id": "oilnpAgI5Bya"
      },
      "execution_count": null,
      "outputs": []
    },
    {
      "cell_type": "code",
      "source": [
        "def update(params,imgs,labels):\n",
        "    \"\"\" Compute the gradient for a batch and update the parameters \"\"\"\n",
        "    value, grads = value_and_grad(loss)(params, x, y)\n"
      ],
      "metadata": {
        "id": "uzSY59J_P8th"
      },
      "execution_count": null,
      "outputs": []
    },
    {
      "cell_type": "code",
      "source": [
        "def init_MLPClassfier(layer_sizes,parent_key,scale = 0.01):\n",
        "    params = []\n",
        "    keys = random.split(parent_key,num= len(layer_sizes) - 1)\n",
        "\n",
        "    for i in range(len(layer_sizes)-1):\n",
        "        w_key,b_key = random.split(keys[i])\n",
        "        in_size = layer_sizes[i]\n",
        "        out_size = layer_sizes[i+1]\n",
        "        # print()\n",
        "        w = random.normal(w_key,shape=(in_size,out_size))\n",
        "        b = random.normal(b_key,shape=(out_size,))\n",
        "        params.append([w,b])\n",
        "\n",
        "    return params"
      ],
      "metadata": {
        "id": "2mBJQ5mR4jWp"
      },
      "execution_count": null,
      "outputs": []
    },
    {
      "cell_type": "code",
      "source": [
        "# test\n",
        "input,h1,h2,output = (784,512,256,10)\n",
        "layers = [input,h1,h2,output]\n",
        "seed = 42 \n",
        "\n",
        "parent_key = random.PRNGKey(seed)\n",
        "MLP_params = init_MLPClassfier(layers,parent_key)\n",
        "\n",
        "print(jax.tree_map(lambda x: x.shape,MLP_params))"
      ],
      "metadata": {
        "colab": {
          "base_uri": "https://localhost:8080/"
        },
        "id": "Xw5CXGtK41Zk",
        "outputId": "29ef9037-b4ed-4e68-e05f-d7704b43bb9a"
      },
      "execution_count": null,
      "outputs": [
        {
          "output_type": "stream",
          "name": "stdout",
          "text": [
            "[[(784, 512), (512,)], [(512, 256), (256,)], [(256, 10), (10,)]]\n"
          ]
        }
      ]
    }
  ]
}