{
  "nbformat": 4,
  "nbformat_minor": 0,
  "metadata": {
    "colab": {
      "name": "simple_mlp.ipynb",
      "provenance": [],
      "authorship_tag": "ABX9TyO8NQqTdLi/ABFaMbQ1aGjl",
      "include_colab_link": true
    },
    "kernelspec": {
      "name": "python3",
      "display_name": "Python 3"
    },
    "language_info": {
      "name": "python"
    },
    "accelerator": "GPU"
  },
  "cells": [
    {
      "cell_type": "markdown",
      "metadata": {
        "id": "view-in-github",
        "colab_type": "text"
      },
      "source": [
        "<a href=\"https://colab.research.google.com/github/TakshPanchal/jax_notebooks/blob/main/simple_mlp.ipynb\" target=\"_parent\"><img src=\"https://colab.research.google.com/assets/colab-badge.svg\" alt=\"Open In Colab\"/></a>"
      ]
    },
    {
      "cell_type": "markdown",
      "source": [
        "# Implement two hidden layers neural network classifier from scratch in JAX [20 Marks]\n",
        "\n",
        "- [ ] Two hidden layers here means (input - hidden1 - hidden2 - output).\n",
        "- [X]  You must not use flax, optax, or any other library for this task.\n",
        "- [X]  Use MNIST dataset with 80:20 train:test split.\n",
        "- [ ]  Manually optimize the number of neurons in hidden layers.\n",
        "- [ ]  Use gradient descent from scratch to optimize your network. You should use the Pytree concept of JAX to do this elegantly.\n",
        "- [ ]  Plot loss v/s iterations curve with matplotlib.\n",
        "- [ ]  Evaluate the model on test data with various classification metrics and briefly discuss their implications.\n"
      ],
      "metadata": {
        "id": "0wp4EsyoYG5L"
      }
    },
    {
      "cell_type": "markdown",
      "source": [
        "# Two hidden layered neural network or Multi Layered Percepron"
      ],
      "metadata": {
        "id": "xBdWnf42VE-L"
      }
    },
    {
      "cell_type": "markdown",
      "source": [
        "This notebook will cover implementation of simple neural network with hidden layers or multilayer perceptron(MLP). MNIST dataset will be used to train the network. These are the topics which will be covered\n",
        "- Loading of MNIST dataset\n",
        "- Implementation of MLP in JAX library\n",
        "- Implementation Gradient Decend algorithm\n",
        "- Analysis of loss v/s epochs curve\n",
        "- Evaluvate model will various classification metrics"
      ],
      "metadata": {
        "id": "JiF_Ru9OVotU"
      }
    },
    {
      "cell_type": "markdown",
      "source": [
        "## Packages\n",
        "\n",
        "Let's first import all the packages which will be needed.\n",
        "\n",
        "- `jax` is Autograd and XLA, brought together for high-performance machine learning research.\n",
        "- We will use `jax.numpy` api for calculations. \n",
        "- `matplotlib` is a library to plot graphs in Python.\n",
        "- `tqdm` tqdm is a library which is used for creating Progress Bars\n",
        "- we will use `sklearn` for train-test split and data loading\n",
        "- `seed` is used to keep all the random function calls consistent.\n"
      ],
      "metadata": {
        "id": "JaXodz4Dl6tn"
      }
    },
    {
      "cell_type": "code",
      "execution_count": 100,
      "metadata": {
        "id": "KfPyDss_YB3p"
      },
      "outputs": [],
      "source": [
        "import jax\n",
        "import jax.numpy as np\n",
        "import matplotlib.pyplot as plt\n",
        "from jax import grad, jit, vmap\n",
        "from tqdm import trange\n",
        "from sklearn.datasets import load_digits # for loading MNIST dataset\n",
        "from sklearn.model_selection import train_test_split\n",
        "\n",
        "seed = 82"
      ]
    },
    {
      "cell_type": "markdown",
      "source": [
        "## Loading MNIST dataset\n",
        "\n",
        "The MNIST dataset contains images of labeled handwritten digits.It is an extremely good dataset for people who want to try machine learning techniques on real-world data while spending minimal time and effort on data preprocessing and formatting. `sklearn` library's `load_digits` function helps load the images and labels directly as `numpy` array.\n",
        "\n",
        "`load_digits` function returns a `dict` which contains metadata and data of datasets. Use `'images'` and `'target'` keys to get images and labels "
      ],
      "metadata": {
        "id": "AHksiez4awXG"
      }
    },
    {
      "cell_type": "code",
      "source": [
        "mnist = load_digits() # returns dictionary\n",
        "print(mnist.keys())\n",
        "\n",
        "# Description of mnist dataset\n",
        "# print(mnist['DESCR']) "
      ],
      "metadata": {
        "id": "PVY0YjSzNlOl",
        "colab": {
          "base_uri": "https://localhost:8080/"
        },
        "outputId": "fea22d7e-68a2-4b70-e12f-fcb103df63ce"
      },
      "execution_count": 92,
      "outputs": [
        {
          "output_type": "stream",
          "name": "stdout",
          "text": [
            "dict_keys(['data', 'target', 'frame', 'feature_names', 'target_names', 'images', 'DESCR'])\n"
          ]
        }
      ]
    },
    {
      "cell_type": "code",
      "source": [
        "images = mnist['images']\n",
        "labels = mnist['target']\n",
        "\n",
        "n_images = images.shape[0]\n",
        "im_shape = images[0].shape\n",
        "print(\"Total no. of images are \", n_images)\n",
        "print(\"Shape of a image is\",im_shape)"
      ],
      "metadata": {
        "colab": {
          "base_uri": "https://localhost:8080/"
        },
        "id": "xVn3917acOR8",
        "outputId": "3b6f845b-2a6e-4785-db06-afc2ccf56516"
      },
      "execution_count": 99,
      "outputs": [
        {
          "output_type": "stream",
          "name": "stdout",
          "text": [
            "Total no. of images are  1797\n",
            "Shape of a image is (8, 8)\n"
          ]
        }
      ]
    },
    {
      "cell_type": "markdown",
      "source": [
        "We can see some images by running next cell. "
      ],
      "metadata": {
        "id": "J14SSG0CeImO"
      }
    },
    {
      "cell_type": "code",
      "source": [
        "fig, axes = plt.subplots(2, 10, figsize=(10, 6))\n",
        "for i in range(20):\n",
        "    axes[i//10, i %10].imshow(mnist.images[i], cmap='gray');\n",
        "    axes[i//10, i %10].axis('off')\n",
        "    axes[i//10, i %10].set_title(f\"target: {mnist.target[i]}\")\n",
        "    \n",
        "plt.tight_layout()"
      ],
      "metadata": {
        "colab": {
          "base_uri": "https://localhost:8080/",
          "height": 270
        },
        "id": "QZ43UUuMwZy_",
        "outputId": "c72feaad-730e-4be5-80c3-91bb4e5bef28"
      },
      "execution_count": null,
      "outputs": [
        {
          "output_type": "display_data",
          "data": {
            "text/plain": [
              "<Figure size 720x432 with 20 Axes>"
            ],
            "image/png": "[encoded data removed]"
          },
          "metadata": {
            "needs_background": "light"
          }
        }
      ]
    },
    {
      "cell_type": "markdown",
      "source": [
        "We know that each image is made of pixels and a image can be represeted as a matrix. Bellow image is a close look of a grayscale image. Each pixel is has a value which represents it's brightness. This image can be represented as a 2-d matrix.\n",
        "\n",
        "<p align=\"center\">\n",
        "  <img src=\"https://www.saraai.com/images/blog/mnist1.png\" />\n",
        "</p>\n",
        "In our dataset, we have grayscale images of 8X8 pixels."
      ],
      "metadata": {
        "id": "_NQ25U6kfdj7"
      }
    },
    {
      "cell_type": "markdown",
      "source": [
        "### Split data in train and test\n",
        "\n",
        "The train-test split technique is used to evaluate model performance after training. \n",
        "\n",
        "The procedure involves taking a dataset and dividing it into two subsets. The first subset is used to fit the model and is referred to as the training dataset. The second subset is not used to train the model; instead, the input element of the dataset is provided to the model, then predictions are made and compared to the expected values. This second dataset is referred to as the test dataset.\n",
        "\n",
        "- **Train Dataset**: Used to fit the machine learning model.\n",
        "\n",
        "- **Test Dataset**: Used to evaluate the fit machine learning model.\n",
        "The objective is to estimate the performance of the machine learning model on \n",
        "- **unseen data**: data not used to train the model.\n",
        "\n",
        "In practice, model is expected for prediction on new unseen data. That is why we make a subset of unseen data for evaluation of model.\n",
        "\n",
        "Here we are doing 80:20 split for train and test data\n",
        "\n"
      ],
      "metadata": {
        "id": "VEcJxUTZhxMa"
      }
    },
    {
      "cell_type": "code",
      "source": [
        "X_train, X_test, y_train, y_test = train_test_split(images, labels, test_size=0.2, random_state=seed)\n",
        "# images = images.reshape(n_images,-1)\n",
        "# images = (images - images.min()) / (images.max() - images.min())\n",
        "print(\"Train size : \",X_train.shape[0])\n",
        "print(\"Test size  : \",X_test.shape[0])"
      ],
      "metadata": {
        "id": "kWWvM68Hvxqw",
        "colab": {
          "base_uri": "https://localhost:8080/"
        },
        "outputId": "cb66cd61-fed3-403a-c7b5-9768c5a6b439"
      },
      "execution_count": 103,
      "outputs": [
        {
          "output_type": "stream",
          "name": "stdout",
          "text": [
            "Train size :  1437\n",
            "Test size  :  360\n"
          ]
        }
      ]
    },
    {
      "cell_type": "markdown",
      "source": [
        "## Multi Layer Perceptron"
      ],
      "metadata": {
        "id": "ycoX18q_9iKK"
      }
    },
    {
      "cell_type": "markdown",
      "source": [
        "Multilayer perceptron is feedforward neural network which has structure like this. \n",
        "\n",
        "<p align=\"center\">\n",
        "  <img src=\"https://nasirml.files.wordpress.com/2017/12/mlp2_model.png?w=585&h=272\" />\n",
        "</p>\n",
        "\n",
        "This is image of neural network of two hidden layers. The first layer is called **Input layer** which consists data from the sample. The last layer is **Output layer** which is prediction of the network."
      ],
      "metadata": {
        "id": "TJ2HCGvB9m23"
      }
    },
    {
      "cell_type": "markdown",
      "source": [
        "## Implementation of Model"
      ],
      "metadata": {
        "id": "okRrNeXgk5Gy"
      }
    },
    {
      "cell_type": "markdown",
      "source": [
        ""
      ],
      "metadata": {
        "id": "WLh6Jz_vl0mf"
      }
    },
    {
      "cell_type": "code",
      "source": [
        "def init_params(layer_sizes,seed):\n",
        "    n_layers = len(layer_sizes)\n",
        "    parent_key = random.PRNGKey(seed)\n",
        "    params = []\n",
        "    keys = random.split(parent_key,num = n_layers - 1)\n",
        "\n",
        "    for i in range(n_layers-1):\n",
        "        w_key,b_key = random.split(keys[i])\n",
        "        in_size = layer_sizes[i]\n",
        "        out_size = layer_sizes[i+1]\n",
        "\n",
        "        W = random.normal(w_key,shape=(in_size,out_size))\n",
        "        b = random.normal(b_key,shape=(out_size,))\n",
        "        params.append(dict(weights=W,biases=b))\n",
        "    return params"
      ],
      "metadata": {
        "id": "YBkR6gpGCT1W"
      },
      "execution_count": null,
      "outputs": []
    },
    {
      "cell_type": "code",
      "source": [
        "def forward(params,x):\n",
        "    \"\"\"\n",
        "        forward propagation for the [LINEAR->RELU]*(L-1)->LINEAR->SIGMOID computation\n",
        "\n",
        "        Arguments:\n",
        "        X -- data, numpy array of shape (input size, number of examples)\n",
        "        parameters -- output of initialize_parameters_deep()\n",
        "\n",
        "        Returns:\n",
        "        AL -- last post-activation value\n",
        "        caches -- list of caches containing:\n",
        "        every cache of linear_relu_forward() (there are L-1 of them, indexed from 0 to L-2)\n",
        "        the cache of linear_sigmoid_forward() (there is one, indexed L-1)\n",
        "    \"\"\"\n",
        "    activation = x\n",
        "\n",
        "    hidden_layers = params[:-1]\n",
        "\n",
        "    # Loop over the ReLU hidden layers\n",
        "    for layer in hidden_layers:\n",
        "        z = np.dot(activation,layer['weights']) + layer['biases']\n",
        "        activation = jax.nn.relu(z)\n",
        "\n",
        "    # Perform final trafo to logits\n",
        "    last_layer = params[-1]\n",
        "    logits = np.dot(activation,last_layer['weights']) + last_layer['biases']\n",
        "    output = jax.nn.log_softmax(logits)\n",
        "\n",
        "    return output\n",
        "\n",
        "batch_forward = jit(vmap(forward, in_axes=(None, 0)))"
      ],
      "metadata": {
        "id": "dC_96qWyCk_O"
      },
      "execution_count": null,
      "outputs": []
    },
    {
      "cell_type": "code",
      "source": [
        "@jit\n",
        "def loss_fn(params, X, Y):\n",
        "    \"\"\" Compute the multi-class cross-entropy loss \"\"\"\n",
        "    prediction = batch_forward(params, X)\n",
        "    return -np.sum(Y * prediction)"
      ],
      "metadata": {
        "id": "vIUPwpyDCxVU"
      },
      "execution_count": null,
      "outputs": []
    },
    {
      "cell_type": "code",
      "source": [
        "@jit\n",
        "def grad_calculation(params, X, Y):\n",
        "    gradients = grad(loss_fn)(params, X, Y)\n",
        "    return gradients\n",
        "\n",
        "def update_param(p,g,lr = 1e-5):\n",
        "    return p - lr * g\n",
        "\n",
        "@jit\n",
        "def gradient_decend(parameters,gradients):\n",
        "    return jax.tree_map(\n",
        "        update_param,\n",
        "        parameters, gradients\n",
        "    )\n",
        "\n",
        "\n",
        "def predict(params, X):\n",
        "    predictions = batch_forward(params,X)\n",
        "    labels = np.argmax(batch_forward(params, X), axis=-1)\n",
        "    return labels\n",
        "\n",
        "def accuracy(params, X, Y):\n",
        "    Y_hat = predict(params, X)\n",
        "    return np.mean(Y == Y_hat)"
      ],
      "metadata": {
        "id": "DshSdJNLi0MB"
      },
      "execution_count": null,
      "outputs": []
    },
    {
      "cell_type": "markdown",
      "source": [
        "### Training loop"
      ],
      "metadata": {
        "id": "Yizb8-q7P2tA"
      }
    },
    {
      "cell_type": "code",
      "source": [
        "epochs = 100\n",
        "batch_size = 256\n",
        "\n",
        "layers = [X_train.shape[-1],64,32,n]\n",
        "\n",
        "params = init_params(layers,42)\n",
        "# print(params)\n",
        "no_of_samples = X_train.shape[0]\n",
        "no_of_batches = no_of_samples // batch_size\n",
        "\n",
        "train_loss = []\n",
        "for e in trange(epochs):\n",
        "    total_loss = 0\n",
        "    acc = 0\n",
        "    for batch_i in range(0,no_of_samples,batch_size):\n",
        "        batch_end_idx = batch_i + batch_size if not batch_i + batch_size > no_of_samples + 1 else -1\n",
        "        batch_images = X_train[batch_i: batch_end_idx]\n",
        "        batch_labels = y_train[batch_i: batch_end_idx]\n",
        "        batch_labels_encoded = jax.nn.one_hot(batch_labels, len(mnist['target_names']))\n",
        "        \n",
        "        batch_images = jax.device_put(batch_images)  # push NumPy explicitly to GPU\n",
        "        batch_labels_encoded = jax.device_put(batch_labels_encoded)\n",
        "\n",
        "        loss = loss_fn(params, batch_images, batch_labels_encoded)\n",
        "        grads = grad_calculation(params, batch_images, batch_labels_encoded)\n",
        "        params = gradient_decend(params,grads)\n",
        "        total_loss += loss\n",
        "        acc += accuracy(params, batch_images, batch_labels)\n",
        "    \n",
        "    train_loss.append(total_loss)\n",
        "\n",
        "  \n",
        "    # print(\"\\nTotal loss is -\",total_loss)\n",
        "    # print(\"\\nAccuracy - \", acc/no_of_batches)\n",
        "    # epoch_range.set_description(f\"Total Loss {(total_loss)} - total Accuracy {acc/no_of_batches}\" )\n",
        "    # epoch_range.refresh() # to show immediately the update"
      ],
      "metadata": {
        "colab": {
          "base_uri": "https://localhost:8080/"
        },
        "id": "vmnCojJVOOvK",
        "outputId": "9c3ef8ee-90db-4718-dba7-8f16bdc43425"
      },
      "execution_count": null,
      "outputs": [
        {
          "output_type": "stream",
          "name": "stderr",
          "text": [
            "100%|██████████| 100/100 [00:01<00:00, 60.33it/s]\n"
          ]
        }
      ]
    },
    {
      "cell_type": "code",
      "source": [
        "3test_accuracy = accuracy(params,X_test,y_test)"
      ],
      "metadata": {
        "id": "9WMDl13ObGMC",
        "colab": {
          "base_uri": "https://localhost:8080/"
        },
        "outputId": "6ec6d1c5-155a-4f17-e59f-45e8cb1adc10"
      },
      "execution_count": null,
      "outputs": [
        {
          "output_type": "execute_result",
          "data": {
            "text/plain": [
              "DeviceArray(0.6888889, dtype=float32)"
            ]
          },
          "metadata": {},
          "execution_count": 87
        }
      ]
    },
    {
      "cell_type": "code",
      "source": [
        ""
      ],
      "metadata": {
        "id": "fVoGbFmPbGF0",
        "colab": {
          "base_uri": "https://localhost:8080/"
        },
        "outputId": "22ad12ca-0287-42a3-ab5b-fcd83430ba1a"
      },
      "execution_count": null,
      "outputs": [
        {
          "output_type": "execute_result",
          "data": {
            "text/plain": [
              "(1797, 64)"
            ]
          },
          "metadata": {},
          "execution_count": 60
        }
      ]
    },
    {
      "cell_type": "code",
      "source": [
        ""
      ],
      "metadata": {
        "id": "QX-8UXtsbGC4"
      },
      "execution_count": null,
      "outputs": []
    },
    {
      "cell_type": "code",
      "source": [
        ""
      ],
      "metadata": {
        "id": "g89G1CgubFyt"
      },
      "execution_count": null,
      "outputs": []
    },
    {
      "cell_type": "code",
      "source": [
        "# def MLPClassfier():\n",
        "#     def __init__(self,layer_sizes,seed):\n",
        "#         self.parent_key = random.PRNGKey(seed)\n",
        "#         self.params = []\n",
        "#         self.layer_sizes = layer_sizes\n",
        "#         self.n_layers = len(self.layer_sizes)\n",
        "#         self._init_params()\n",
        "#         self.caches = []\n",
        "\n",
        "#     def _init_params(self,scale = 0.01):\n",
        "#         keys = random.split(self.parent_key,num = self.n_layers - 1)\n",
        "\n",
        "#         for i in range(self.n_layers-1):\n",
        "#             w_key,b_key = random.split(keys[i])\n",
        "#             in_size = self.layer_sizes[i]\n",
        "#             out_size = self.layer_sizes[i+1]\n",
        "\n",
        "#             w = random.normal(w_key,shape=(in_size,out_size))\n",
        "#             b = random.normal(b_key,shape=(out_size,))\n",
        "#             self.params.append([w,b])\n",
        "\n",
        "#     def _linear_forward(self,activation,w,b):\n",
        "#         \"\"\"\n",
        "#             for a single sample\n",
        "#         \"\"\"\n",
        "#         z = np.dot(w,activation) + b \n",
        "#         cache = (activation,w,b)\n",
        "#         return z, cache\n",
        "    \n",
        "#     def _linear_activation_forward(self,activation, w, b, activation_fn):\n",
        "#         z, linear_cache = self._linear_forward(activation, w, b)\n",
        "#         activation = activation_fn(z)\n",
        "#         cache = (linear_cache, z)\n",
        "\n",
        "#         return activation, cache\n",
        "\n",
        "#     @jit\n",
        "#     def _forward(self,x):\n",
        "#         \"\"\"\n",
        "#         forward propagation for the [LINEAR->RELU]*(L-1)->LINEAR->SIGMOID computation\n",
        "        \n",
        "#         Arguments:\n",
        "#         X -- data, numpy array of shape (input size, number of examples)\n",
        "#         parameters -- output of initialize_parameters_deep()\n",
        "        \n",
        "#         Returns:\n",
        "#         AL -- last post-activation value\n",
        "#         caches -- list of caches containing:\n",
        "#                     every cache of linear_relu_forward() (there are L-1 of them, indexed from 0 to L-2)\n",
        "#                     the cache of linear_sigmoid_forward() (there is one, indexed L-1)\n",
        "#         \"\"\"\n",
        "\n",
        "       \n",
        "#         activation = x\n",
        "#         # self.\n",
        "#         L = self.n_layers                # number of layers in the neural network\n",
        "    \n",
        "\n",
        "#         hidden_layers = params[:-1]\n",
        "\n",
        "#         # Loop over the ReLU hidden layers\n",
        "#         for w, b in hidden_layers:\n",
        "#             activation, cache = self._linear_activation_forward(activation, w, b, activation_fn = jax.nn.relu)\n",
        "#             self.caches.append(cache)\n",
        "\n",
        "#         # Perform final trafo to logits\n",
        "#         final_w, final_b = params[-1]\n",
        "#         logits = np.dot(final_w, activation) + final_b\n",
        "#         output, cache = self._linear_activation_forward(activation, final_w, final_b, activation_fn = jax.nn.softmax)\n",
        "#         output = jax.nn.softmax(logits)\n",
        "#         self.caches.append(cache)\n",
        "\n",
        "#         return output\n",
        "\n",
        "#     def forward(self,X):\n",
        "#         batch_forward = jit(vmap(self._forward, in_axes=(None, 0), out_axes=0))\n",
        "#         return batch_forward(X)\n",
        "\n",
        "#     def linear_backward(self, dZ, cache):\n",
        "#         \"\"\"\n",
        "#         Implement the linear portion of backward propagation for a single layer (layer l)\n",
        "\n",
        "#         Arguments:\n",
        "#         dZ -- Gradient of the cost with respect to the linear output (of current layer l)\n",
        "#         cache -- tuple of values (A_prev, W, b) coming from the forward propagation in the current layer\n",
        "\n",
        "#         Returns:\n",
        "#         dA_prev -- Gradient of the cost with respect to the activation (of the previous layer l-1), same shape as A_prev\n",
        "#         dW -- Gradient of the cost with respect to W (current layer l), same shape as W\n",
        "#         db -- Gradient of the cost with respect to b (current layer l), same shape as b\n",
        "#         \"\"\"\n",
        "#         A_prev, W, b = cache\n",
        "#         m = A_prev.shape[1]\n",
        "\n",
        "#         ### START CODE HERE ### (≈ 3 lines of code)\n",
        "#         dW = np.dot(dZ, cache[0].T) / m\n",
        "#         db = np.squeeze(np.sum(dZ, axis=1, keepdims=True)) / m\n",
        "#         dA_prev = np.dot(cache[1].T, dZ)\n",
        "#         ### END CODE HERE ###\n",
        "        \n",
        "#         assert (dA_prev.shape == A_prev.shape)\n",
        "#         assert (dW.shape == W.shape)\n",
        "#         assert (isinstance(db, float))\n",
        "        \n",
        "#         return dA_prev, dW, db"
      ],
      "metadata": {
        "id": "-fj3-RY18knO",
        "cellView": "form"
      },
      "execution_count": null,
      "outputs": []
    },
    {
      "cell_type": "code",
      "source": [
        "# forward pass\n",
        "@jit\n",
        "def forward(params,in_array):\n",
        "    \"\"\"\n",
        "        Compute the forward pass for each example individually\n",
        "        params: list of weights and biases of MLP \n",
        "        x: single flat image\n",
        "    \"\"\"\n",
        "    hidden_layers = params[:-1]\n",
        "\n",
        "    activations = in_array\n",
        "\n",
        "    # Loop over the ReLU hidden layers\n",
        "    for w, b in hidden_layers:\n",
        "        a = np.dot(w,activations) + b \n",
        "        activation = jax.nn.relu(a)\n",
        "    \n",
        "    # Perform final trafo to logits\n",
        "    final_w, final_b = params[-1]\n",
        "    logits = np.dot(final_w, activations) + final_b\n",
        "    output = jax.nn.softmax(logits)\n",
        "    return output\n"
      ],
      "metadata": {
        "id": "oilnpAgI5Bya"
      },
      "execution_count": null,
      "outputs": []
    },
    {
      "cell_type": "code",
      "source": [
        "def update(params,imgs,labels):\n",
        "    \"\"\" Compute the gradient for a batch and update the parameters \"\"\"\n",
        "    value, grads = value_and_grad(loss)(params, x, y)\n"
      ],
      "metadata": {
        "id": "uzSY59J_P8th"
      },
      "execution_count": null,
      "outputs": []
    },
    {
      "cell_type": "code",
      "source": [
        "def init_MLPClassfier(layer_sizes,parent_key,scale = 0.01):\n",
        "    params = []\n",
        "    keys = random.split(parent_key,num= len(layer_sizes) - 1)\n",
        "\n",
        "    for i in range(len(layer_sizes)-1):\n",
        "        w_key,b_key = random.split(keys[i])\n",
        "        in_size = layer_sizes[i]\n",
        "        out_size = layer_sizes[i+1]\n",
        "        w = random.normal(w_key,shape=(in_size,out_size))\n",
        "        b = random.normal(b_key,shape=(out_size,))\n",
        "        params.append([w,b])\n",
        "\n",
        "    return params"
      ],
      "metadata": {
        "id": "2mBJQ5mR4jWp"
      },
      "execution_count": null,
      "outputs": []
    },
    {
      "cell_type": "code",
      "source": [
        "# test\n",
        "input,h1,h2,output = (784,512,256,10)\n",
        "layers = [input,h1,h2,output]\n",
        "seed = 42 \n",
        "\n",
        "parent_key = random.PRNGKey(seed)\n",
        "MLP_params = init_MLPClassfier(layers,parent_key)\n",
        "\n",
        "print(jax.tree_map(lambda x: x.shape,MLP_params))"
      ],
      "metadata": {
        "id": "Xw5CXGtK41Zk"
      },
      "execution_count": null,
      "outputs": []
    }
  ]
}